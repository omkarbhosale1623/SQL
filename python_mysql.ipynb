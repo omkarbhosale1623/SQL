{
 "cells": [
  {
   "cell_type": "code",
   "execution_count": 1,
   "id": "ee24ad2b",
   "metadata": {},
   "outputs": [
    {
     "name": "stdout",
     "output_type": "stream",
     "text": [
      "Collecting mysql-connector-python\n",
      "  Downloading mysql_connector_python-9.4.0-cp310-cp310-win_amd64.whl.metadata (7.5 kB)\n",
      "Downloading mysql_connector_python-9.4.0-cp310-cp310-win_amd64.whl (16.4 MB)\n",
      "   ---------------------------------------- 0.0/16.4 MB ? eta -:--:--\n",
      "    --------------------------------------- 0.3/16.4 MB ? eta -:--:--\n",
      "   - -------------------------------------- 0.8/16.4 MB 2.6 MB/s eta 0:00:07\n",
      "   -- ------------------------------------- 1.0/16.4 MB 2.0 MB/s eta 0:00:08\n",
      "   --- ------------------------------------ 1.3/16.4 MB 1.9 MB/s eta 0:00:09\n",
      "   --- ------------------------------------ 1.6/16.4 MB 1.9 MB/s eta 0:00:08\n",
      "   ----- ---------------------------------- 2.1/16.4 MB 1.8 MB/s eta 0:00:08\n",
      "   ------- -------------------------------- 2.9/16.4 MB 2.0 MB/s eta 0:00:07\n",
      "   -------- ------------------------------- 3.4/16.4 MB 2.2 MB/s eta 0:00:06\n",
      "   --------- ------------------------------ 3.9/16.4 MB 2.2 MB/s eta 0:00:06\n",
      "   ---------- ----------------------------- 4.5/16.4 MB 2.2 MB/s eta 0:00:06\n",
      "   ----------- ---------------------------- 4.7/16.4 MB 2.1 MB/s eta 0:00:06\n",
      "   ----------- ---------------------------- 4.7/16.4 MB 2.1 MB/s eta 0:00:06\n",
      "   ------------ --------------------------- 5.0/16.4 MB 1.9 MB/s eta 0:00:06\n",
      "   ------------- -------------------------- 5.5/16.4 MB 2.0 MB/s eta 0:00:06\n",
      "   -------------- ------------------------- 6.0/16.4 MB 1.9 MB/s eta 0:00:06\n",
      "   --------------- ------------------------ 6.3/16.4 MB 1.9 MB/s eta 0:00:06\n",
      "   --------------- ------------------------ 6.3/16.4 MB 1.9 MB/s eta 0:00:06\n",
      "   --------------- ------------------------ 6.6/16.4 MB 1.8 MB/s eta 0:00:06\n",
      "   ----------------- ---------------------- 7.1/16.4 MB 1.8 MB/s eta 0:00:06\n",
      "   ------------------ --------------------- 7.6/16.4 MB 1.8 MB/s eta 0:00:05\n",
      "   ------------------- -------------------- 7.9/16.4 MB 1.8 MB/s eta 0:00:05\n",
      "   ------------------- -------------------- 7.9/16.4 MB 1.8 MB/s eta 0:00:05\n",
      "   ------------------- -------------------- 7.9/16.4 MB 1.8 MB/s eta 0:00:05\n",
      "   ------------------- -------------------- 8.1/16.4 MB 1.6 MB/s eta 0:00:06\n",
      "   -------------------- ------------------- 8.4/16.4 MB 1.6 MB/s eta 0:00:06\n",
      "   --------------------- ------------------ 8.7/16.4 MB 1.6 MB/s eta 0:00:05\n",
      "   --------------------- ------------------ 8.9/16.4 MB 1.6 MB/s eta 0:00:05\n",
      "   ---------------------- ----------------- 9.2/16.4 MB 1.6 MB/s eta 0:00:05\n",
      "   ----------------------- ---------------- 9.4/16.4 MB 1.6 MB/s eta 0:00:05\n",
      "   ----------------------- ---------------- 9.7/16.4 MB 1.6 MB/s eta 0:00:05\n",
      "   ------------------------ --------------- 10.2/16.4 MB 1.6 MB/s eta 0:00:04\n",
      "   ------------------------- -------------- 10.5/16.4 MB 1.6 MB/s eta 0:00:04\n",
      "   -------------------------- ------------- 10.7/16.4 MB 1.6 MB/s eta 0:00:04\n",
      "   -------------------------- ------------- 11.0/16.4 MB 1.6 MB/s eta 0:00:04\n",
      "   ---------------------------- ----------- 11.8/16.4 MB 1.6 MB/s eta 0:00:03\n",
      "   ------------------------------ --------- 12.3/16.4 MB 1.6 MB/s eta 0:00:03\n",
      "   ------------------------------- -------- 13.1/16.4 MB 1.7 MB/s eta 0:00:02\n",
      "   -------------------------------- ------- 13.4/16.4 MB 1.7 MB/s eta 0:00:02\n",
      "   --------------------------------- ------ 13.6/16.4 MB 1.7 MB/s eta 0:00:02\n",
      "   ---------------------------------- ----- 14.2/16.4 MB 1.7 MB/s eta 0:00:02\n",
      "   ----------------------------------- ---- 14.4/16.4 MB 1.7 MB/s eta 0:00:02\n",
      "   ----------------------------------- ---- 14.4/16.4 MB 1.7 MB/s eta 0:00:02\n",
      "   ----------------------------------- ---- 14.7/16.4 MB 1.6 MB/s eta 0:00:02\n",
      "   ----------------------------------- ---- 14.7/16.4 MB 1.6 MB/s eta 0:00:02\n",
      "   ------------------------------------ --- 14.9/16.4 MB 1.6 MB/s eta 0:00:01\n",
      "   ------------------------------------- -- 15.2/16.4 MB 1.6 MB/s eta 0:00:01\n",
      "   ---------------------------------------  16.0/16.4 MB 1.6 MB/s eta 0:00:01\n",
      "   ---------------------------------------  16.3/16.4 MB 1.6 MB/s eta 0:00:01\n",
      "   ---------------------------------------- 16.4/16.4 MB 1.6 MB/s  0:00:10\n",
      "Installing collected packages: mysql-connector-python\n",
      "Successfully installed mysql-connector-python-9.4.0\n",
      "Note: you may need to restart the kernel to use updated packages.\n"
     ]
    }
   ],
   "source": [
    "pip install mysql-connector-python"
   ]
  },
  {
   "cell_type": "code",
   "execution_count": 2,
   "id": "44d01d9c",
   "metadata": {},
   "outputs": [],
   "source": [
    "import mysql.connector"
   ]
  },
  {
   "cell_type": "code",
   "execution_count": 5,
   "id": "a7faa154",
   "metadata": {},
   "outputs": [],
   "source": [
    "con=mysql.connector.connect(\n",
    "    host=\"localhost\", \n",
    "    user=\"root\", \n",
    "    password=\"Ob@5229688\", \n",
    "    database=\"studentdb\"    \n",
    ")"
   ]
  },
  {
   "cell_type": "code",
   "execution_count": 8,
   "id": "293345ff",
   "metadata": {},
   "outputs": [],
   "source": [
    "cursor=con.cursor()"
   ]
  },
  {
   "cell_type": "code",
   "execution_count": 16,
   "id": "154fd8ed",
   "metadata": {},
   "outputs": [],
   "source": [
    "cursor.execute('select * from studentdb.students where name=\"Omkar\"')"
   ]
  },
  {
   "cell_type": "code",
   "execution_count": 17,
   "id": "0d5ff546",
   "metadata": {},
   "outputs": [
    {
     "data": {
      "text/plain": [
       "[(1,\n",
       "  'Omkar',\n",
       "  'omkarbhosale00007@gmail.com',\n",
       "  datetime.date(2003, 6, 1),\n",
       "  datetime.datetime(2025, 9, 12, 14, 15, 57))]"
      ]
     },
     "execution_count": 17,
     "metadata": {},
     "output_type": "execute_result"
    }
   ],
   "source": [
    "cursor.fetchall()"
   ]
  },
  {
   "cell_type": "code",
   "execution_count": 18,
   "id": "fc21892e",
   "metadata": {},
   "outputs": [
    {
     "data": {
      "text/plain": [
       "True"
      ]
     },
     "execution_count": 18,
     "metadata": {},
     "output_type": "execute_result"
    }
   ],
   "source": [
    "cursor.close()"
   ]
  },
  {
   "cell_type": "code",
   "execution_count": 19,
   "id": "51ac75b9",
   "metadata": {},
   "outputs": [],
   "source": [
    "con.close()"
   ]
  },
  {
   "cell_type": "code",
   "execution_count": null,
   "id": "92a18fa9",
   "metadata": {},
   "outputs": [],
   "source": []
  }
 ],
 "metadata": {
  "kernelspec": {
   "display_name": "agenticai",
   "language": "python",
   "name": "python3"
  },
  "language_info": {
   "codemirror_mode": {
    "name": "ipython",
    "version": 3
   },
   "file_extension": ".py",
   "mimetype": "text/x-python",
   "name": "python",
   "nbconvert_exporter": "python",
   "pygments_lexer": "ipython3",
   "version": "3.10.18"
  }
 },
 "nbformat": 4,
 "nbformat_minor": 5
}
