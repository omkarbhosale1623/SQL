{
 "cells": [
  {
   "cell_type": "code",
   "execution_count": 2,
   "id": "41aa1c9b",
   "metadata": {},
   "outputs": [],
   "source": [
    "import mysql.connector"
   ]
  },
  {
   "cell_type": "code",
   "execution_count": 3,
   "id": "4b126f43",
   "metadata": {},
   "outputs": [],
   "source": [
    "con=mysql.connector.connect(\n",
    "    host=\"localhost\", \n",
    "    user=\"root\", \n",
    "    password=\"Ob@5229688\", \n",
    "    database=\"test123\"    \n",
    ")"
   ]
  },
  {
   "cell_type": "code",
   "execution_count": 5,
   "id": "85a93e39",
   "metadata": {},
   "outputs": [],
   "source": [
    "cursor=con.cursor()"
   ]
  },
  {
   "cell_type": "code",
   "execution_count": 6,
   "id": "178d1d7b",
   "metadata": {},
   "outputs": [],
   "source": [
    "cursor.execute(\"\"\"\n",
    "               Create table if not exists test123.employees(\n",
    "                   id int primary key,\n",
    "                   name varchar(100), \n",
    "                   salary decimal(10,2),\n",
    "                   doj date,\n",
    "                   dept varchar(50)\n",
    "                   )\n",
    "\"\"\")"
   ]
  },
  {
   "cell_type": "code",
   "execution_count": 14,
   "id": "1e1285f8",
   "metadata": {},
   "outputs": [
    {
     "name": "stdout",
     "output_type": "stream",
     "text": [
      "['1', 'John Doe', '50000', '2022-01-15', 'HR']\n",
      "['2', 'Jane Smith', '60000', '2021-09-01', 'Finance']\n",
      "['3', 'Alice Johnson', '55000', '2023-03-20', 'IT']\n",
      "['4', 'Bob Lee', '70000', '2020-07-12', 'Marketing']\n",
      "['5', 'Sara Khan', '', '2019-12-05', 'HR']\n"
     ]
    }
   ],
   "source": [
    "import csv\n",
    "with open('employee.csv', newline='') as f:\n",
    "    reader=csv.reader(f)\n",
    "    next(reader)\n",
    "    for row in reader:\n",
    "        print(row)\n",
    "        salary = row[2] if row[2]!='' else None\n",
    "        cursor.execute(\"insert into test123.employees(id, name, salary, doj, dept) values(%s, %s,%s, %s, %s)\", \n",
    "                       (row[0], row[1], salary, row[3], row[4]))"
   ]
  },
  {
   "cell_type": "code",
   "execution_count": 15,
   "id": "34888af0",
   "metadata": {},
   "outputs": [],
   "source": [
    "con.commit()"
   ]
  },
  {
   "cell_type": "code",
   "execution_count": 16,
   "id": "dddf4b09",
   "metadata": {},
   "outputs": [
    {
     "name": "stdout",
     "output_type": "stream",
     "text": [
      "['1', 'John Doe', '50000', '2022-01-15', 'HR']\n",
      "['2', 'Jane Smith', '60000', '2021-09-01', 'Finance']\n",
      "['3', 'Alice Johnson', '55000', '2023-03-20', 'IT']\n",
      "['4', 'Bob Lee', '70000', '2020-07-12', 'Marketing']\n",
      "['5', 'Sara Khan', '', '2019-12-05', 'HR']\n"
     ]
    }
   ],
   "source": [
    "import csv\n",
    "rows_to_insert=[]\n",
    "with open('employee.csv', newline='') as f:\n",
    "    reader=csv.reader(f)\n",
    "    next(reader)\n",
    "    for row in reader:\n",
    "        print(row)\n",
    "        salary = row[2] if row[2]!='' else None\n",
    "        rows_to_insert.append((row[0], row[1], salary, row[3], row[4]))"
   ]
  },
  {
   "cell_type": "code",
   "execution_count": 17,
   "id": "0b6873c6",
   "metadata": {},
   "outputs": [
    {
     "data": {
      "text/plain": [
       "[('1', 'John Doe', '50000', '2022-01-15', 'HR'),\n",
       " ('2', 'Jane Smith', '60000', '2021-09-01', 'Finance'),\n",
       " ('3', 'Alice Johnson', '55000', '2023-03-20', 'IT'),\n",
       " ('4', 'Bob Lee', '70000', '2020-07-12', 'Marketing'),\n",
       " ('5', 'Sara Khan', None, '2019-12-05', 'HR')]"
      ]
     },
     "execution_count": 17,
     "metadata": {},
     "output_type": "execute_result"
    }
   ],
   "source": [
    "rows_to_insert"
   ]
  },
  {
   "cell_type": "code",
   "execution_count": 19,
   "id": "83cd67bb",
   "metadata": {},
   "outputs": [],
   "source": [
    "cursor.execute('truncate table employees')"
   ]
  },
  {
   "cell_type": "code",
   "execution_count": 20,
   "id": "5e15621c",
   "metadata": {},
   "outputs": [],
   "source": [
    "cursor.executemany(\"insert into test123.employees(id, name, salary, doj, dept) values(%s, %s,%s, %s, %s)\", \n",
    "                       rows_to_insert)"
   ]
  },
  {
   "cell_type": "code",
   "execution_count": 21,
   "id": "61003f45",
   "metadata": {},
   "outputs": [],
   "source": [
    "con.commit()"
   ]
  },
  {
   "cell_type": "code",
   "execution_count": 22,
   "id": "abebccb6",
   "metadata": {},
   "outputs": [
    {
     "data": {
      "text/plain": [
       "True"
      ]
     },
     "execution_count": 22,
     "metadata": {},
     "output_type": "execute_result"
    }
   ],
   "source": [
    "cursor.close()"
   ]
  },
  {
   "cell_type": "code",
   "execution_count": 23,
   "id": "da780229",
   "metadata": {},
   "outputs": [],
   "source": [
    "con.close()"
   ]
  },
  {
   "cell_type": "code",
   "execution_count": null,
   "id": "ac16a681",
   "metadata": {},
   "outputs": [],
   "source": []
  }
 ],
 "metadata": {
  "kernelspec": {
   "display_name": "agenticai",
   "language": "python",
   "name": "python3"
  },
  "language_info": {
   "codemirror_mode": {
    "name": "ipython",
    "version": 3
   },
   "file_extension": ".py",
   "mimetype": "text/x-python",
   "name": "python",
   "nbconvert_exporter": "python",
   "pygments_lexer": "ipython3",
   "version": "3.10.18"
  }
 },
 "nbformat": 4,
 "nbformat_minor": 5
}
